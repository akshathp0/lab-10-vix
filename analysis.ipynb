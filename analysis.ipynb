{
 "cells": [
  {
   "cell_type": "code",
   "execution_count": 2,
   "id": "73089789",
   "metadata": {},
   "outputs": [],
   "source": [
    "import numpy as np # fast math + arrays\n",
    "import pandas as pd # read CSVs, data tables\n",
    "import scipy.stats as st # probability models + .fit()\n",
    "import matplotlib.pyplot as plt # plotting\n",
    "from statsmodels.distributions.empirical_distribution import ECDF # ECDF: nonparametric cumulative curve\n",
    "\n",
    "plt.rcParams.update({\n",
    "\"axes.spines.top\": False, # cleaner axes\n",
    "\"axes.spines.right\": False,\n",
    "\"axes.grid\": True, # light grid helps read values\n",
    "\"grid.alpha\": 0.25,\n",
    "})\n",
    "\n",
    "def plot_ecdf(data, ax=None, **kw):\n",
    "\n",
    "    \"\"\"\n",
    "    Make an ECDF step plot.\n",
    "    WHY: shows all data points; no bins; great for comparing to model CDFs.\n",
    "    \"\"\"\n",
    "\n",
    "    ec = ECDF(data) # compute ECDF object (x,y steps)\n",
    "    ax = ax or plt.gca() # use passed axes OR current axes\n",
    "    ax.step(ec.x, ec.y, where=\"post\", **kw)\n",
    "    ax.set_xlabel(\"Wait (min)\")\n",
    "    ax.set_ylabel(\"F_hat(x)\") # F-hat = empirical CDF\n",
    "    return ax\n",
    "\n",
    "def aic(logL, k):\n",
    "\n",
    "    \"\"\"\n",
    "    Compute Akaike Information Criterion.\n",
    "    AIC = 2*k - 2*logL\n",
    "    logL = maximized log-likelihood; k = # free parameters in model.\n",
    "    Lower AIC -> better tradeoff fit vs complexity (same dataset only!).\n",
    "    \"\"\"\n",
    "\n",
    "    return 2*k - 2*logL\n",
    "\n",
    "def mean_from_params(dist_name, params):\n",
    "    \n",
    "    \"\"\"\n",
    "    Convert SciPy .fit() parameters -> model mean (in minutes).\n",
    "    SciPy returns (shape[s], loc, scale) in this order for most continuous dists.\n",
    "    NOTE: ’loc’ shifts the distribution; ’scale’ stretches it.\n",
    "    \"\"\"\n",
    "\n",
    "    if dist_name == \"gamma\":\n",
    "        a, loc, scale = params # a = shape (k)\n",
    "        return loc + a*scale # Gamma mean = loc + k*theta\n",
    "    elif dist_name == \"weibull_min\":\n",
    "        c, loc, scale = params # c = shape\n",
    "        # Weibull mean uses the gamma function:\n",
    "        return loc + scale*st.gamma(1 + 1/c)\n",
    "    elif dist_name == \"lognorm\":\n",
    "        s, loc, scale = params # s = sigma (log-scale SD); scale = exp(mu)\n",
    "        # mean = loc + scale * exp( sigma^2 / 2 )\n",
    "        return loc + scale * np.exp(s**2 / 2)\n",
    "    else:\n",
    "        return np.nan # unknown model"
   ]
  },
  {
   "cell_type": "code",
   "execution_count": 35,
   "id": "77a46530",
   "metadata": {},
   "outputs": [
    {
     "name": "stdout",
     "output_type": "stream",
     "text": [
      "PRE n=370, mean=$47.47\n",
      "POST n=390, mean=$49.97\n"
     ]
    }
   ],
   "source": [
    "df = pd.read_csv('./data/vix.csv', parse_dates = ['Open time'])\n",
    "\n",
    "df = df.drop(['Open', 'High', 'Low', 'Volume', 'Trade count', 'VWAP'], axis = 1)\n",
    "\n",
    "split_date = pd.Timestamp('2024-07-15')\n",
    "\n",
    "three_mo_before = pd.Timestamp('2024-04-15')\n",
    "three_mo_after = pd.Timestamp('2024-10-15')\n",
    "\n",
    "pre = df.loc[(df['Open time'] >= three_mo_before) & (df['Open time'] < split_date)].copy()\n",
    "post = df.loc[(df['Open time'] <= three_mo_after) & (df['Open time'] >= split_date)].copy()\n",
    "\n",
    "pre = pre.drop(['Open time'], axis = 1).astype(float)\n",
    "post = post.drop(['Open time'], axis = 1).astype(float)\n",
    "\n",
    "pre = pre.to_numpy()\n",
    "post = post.to_numpy()\n",
    "\n",
    "print(f\"PRE n={pre.size}, mean=${pre.mean():.2f}\")\n",
    "print(f\"POST n={post.size}, mean=${post.mean():.2f}\")"
   ]
  }
 ],
 "metadata": {
  "kernelspec": {
   "display_name": "base",
   "language": "python",
   "name": "python3"
  },
  "language_info": {
   "codemirror_mode": {
    "name": "ipython",
    "version": 3
   },
   "file_extension": ".py",
   "mimetype": "text/x-python",
   "name": "python",
   "nbconvert_exporter": "python",
   "pygments_lexer": "ipython3",
   "version": "3.12.2"
  }
 },
 "nbformat": 4,
 "nbformat_minor": 5
}
